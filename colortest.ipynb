{
 "cells": [
  {
   "cell_type": "code",
   "execution_count": 1,
   "metadata": {},
   "outputs": [],
   "source": [
    "import numpy as np\n",
    "import colormatch\n",
    "import matplotlib.pyplot as plt\n",
    "from scipy import interpolate\n",
    "%matplotlib inline"
   ]
  },
  {
   "cell_type": "code",
   "execution_count": 2,
   "metadata": {},
   "outputs": [],
   "source": [
    "\n",
    "def _loadcie():\n",
    "    wvl,xx,yy,zz = np.loadtxt(\"cmf.csv\",unpack=True,delimiter=',')\n",
    "    return wvl,xx,yy,zz"
   ]
  },
  {
   "cell_type": "code",
   "execution_count": 3,
   "metadata": {},
   "outputs": [],
   "source": [
    "\n",
    "def xyz2rgb(x,y,normalization):\n",
    "    \n",
    "    z = 1-(x+y)\n",
    "    \n",
    "    r = np.sum(widegamut[0,:]*x)*normalization\n",
    "    g = np.sum(widegamut[1,:]*y)*normalization\n",
    "    b = np.sum(widegamut[2,:]*z)*normalization\n",
    "    cmax = np.amax((r,g,b))\n",
    "    \n",
    "    #return r/cmax,g/cmax,b/cmax\n",
    "    return r,g,b\n"
   ]
  },
  {
   "cell_type": "code",
   "execution_count": 4,
   "metadata": {},
   "outputs": [],
   "source": [
    "def makexyz(wvl,spec):\n",
    "    if np.amin(wvl)<1.0e-3: #probably meters not nanometers\n",
    "        wvl*=1.0e9\n",
    "    w0,xx,yy,zz = _loadcie()\n",
    "    imin = np.where(wvl>np.amin(w0))[0][0]\n",
    "    imax = np.where(wvl<np.amax(w0))[0][-1]\n",
    "    wn = wvl[imin:imax+1]\n",
    "    specn = spec[imin:imax+1]\n",
    "    fx = interpolate.interp1d(w0,xx)\n",
    "    fy = interpolate.interp1d(w0,yy)\n",
    "    fz = interpolate.interp1d(w0,zz)\n",
    "    \n",
    "    xn = fx(wn)\n",
    "    yn = fy(wn)\n",
    "    zn = fz(wn)\n",
    "    \n",
    "    plt.plot(wn,xn)\n",
    "    plt.plot(wn,yn)\n",
    "    plt.plot(wn,zn)\n",
    "    \n",
    "    XI = np.trapz(xn*specn,x=wn)\n",
    "    YI = np.trapz(yn*specn,x=wn)\n",
    "    ZI = np.trapz(zn*specn,x=wn)\n",
    "    #if (XI+YI+ZI)>0:\n",
    "    #    xnu = XI/(XI+YI+ZI)\n",
    "    #    ynu = YI/(XI+YI+ZI)\n",
    "    #    znu = 1.0-(xnu+ynu)\n",
    "    #else:\n",
    "    #    xnu=0\n",
    "    #    ynu=0\n",
    "    #    znu=0\n",
    "    \n",
    "    return XI,YI,ZI"
   ]
  },
  {
   "cell_type": "code",
   "execution_count": 5,
   "metadata": {},
   "outputs": [],
   "source": [
    "h = 6.62607004e-34\n",
    "c = 2.99792458e8\n",
    "kb = 1.38064852e-23"
   ]
  },
  {
   "cell_type": "code",
   "execution_count": 6,
   "metadata": {},
   "outputs": [],
   "source": [
    "def blackbody(temp):\n",
    "    wv = np.logspace(-8,-4,num=1000)\n",
    "    planck = 2*h*c**2/wv**5 * 1.0/(np.exp(h*c/(wv*kb*temp))-1)\n",
    "    return wv,planck"
   ]
  },
  {
   "cell_type": "code",
   "execution_count": 7,
   "metadata": {},
   "outputs": [],
   "source": [
    "w,gstar = blackbody(5700.0)"
   ]
  },
  {
   "cell_type": "code",
   "execution_count": 8,
   "metadata": {},
   "outputs": [
    {
     "data": {
      "text/plain": [
       "(1e-15, 100000000000000.0)"
      ]
     },
     "execution_count": 8,
     "metadata": {},
     "output_type": "execute_result"
    },
    {
     "data": {
      "image/png": "[encoded data removed]",
      "text/plain": [
       "<matplotlib.figure.Figure at 0x7fc00784d3d0>"
      ]
     },
     "metadata": {},
     "output_type": "display_data"
    }
   ],
   "source": [
    "plt.plot(w,gstar)\n",
    "plt.xscale('log')\n",
    "plt.yscale('log')\n",
    "plt.ylim(1.0e-15,1.0e14)"
   ]
  },
  {
   "cell_type": "code",
   "execution_count": 9,
   "metadata": {},
   "outputs": [],
   "source": [
    "w,mstar = blackbody(3000.0)"
   ]
  },
  {
   "cell_type": "code",
   "execution_count": 10,
   "metadata": {},
   "outputs": [],
   "source": [
    "w,bstar = blackbody(8000.0)"
   ]
  },
  {
   "cell_type": "code",
   "execution_count": 11,
   "metadata": {},
   "outputs": [
    {
     "data": {
      "text/plain": [
       "(3.9e-07, 8.3e-07)"
      ]
     },
     "execution_count": 11,
     "metadata": {},
     "output_type": "execute_result"
    },
    {
     "data": {
      "image/png": "[encoded data removed]",
      "text/plain": [
       "<matplotlib.figure.Figure at 0x7fc0055bc710>"
      ]
     },
     "metadata": {},
     "output_type": "display_data"
    }
   ],
   "source": [
    "plt.plot(w,mstar,color='r')\n",
    "plt.plot(w,gstar,color='y')\n",
    "plt.plot(w,bstar,color='b')\n",
    "#plt.xscale('log')\n",
    "plt.yscale('log')\n",
    "plt.ylim(1.0e9,1.0e16)\n",
    "plt.xlim(3.90e-7,8.30e-7)"
   ]
  },
  {
   "cell_type": "code",
   "execution_count": 12,
   "metadata": {},
   "outputs": [],
   "source": [
    "r1,g1,b1 = colormatch.spec2rgb(w,mstar,normalization=1.2)\n",
    "r2,g2,b2 = colormatch.spec2rgb(w,gstar,normalization=1.2)\n",
    "r3,g3,b3 = colormatch.spec2rgb(w,bstar,normalization=1.2)"
   ]
  },
  {
   "cell_type": "code",
   "execution_count": 13,
   "metadata": {},
   "outputs": [
    {
     "name": "stdout",
     "output_type": "stream",
     "text": [
      "0.5327352032341939 0.4790831058715296 0.22960519571719476\n",
      "0.39653144820227 0.4025137278282032 0.4904779779619034\n",
      "0.355337547676846 0.36564788566128725 0.5863049732123579\n"
     ]
    },
    {
     "data": {
      "image/png": "[encoded data removed]",
      "text/plain": [
       "<matplotlib.figure.Figure at 0x7fc043424790>"
      ]
     },
     "metadata": {},
     "output_type": "display_data"
    }
   ],
   "source": [
    "\n",
    "print r1,g1,b1\n",
    "print r2,g2,b2\n",
    "print r3,g3,b3\n",
    "fig, ax = plt.subplots()\n",
    "from matplotlib.patches import Circle\n",
    "circle1 = Circle(xy=(1, 1*1.2), radius=0.4, fc=(r1,g1,b1))\n",
    "circle2 = Circle(xy=(3, 1*1.2), radius=0.4, fc=(r2,g2,b2))\n",
    "circle3 = Circle(xy=(5, 1*1.2), radius=0.4, fc=(r3,g3,b3))\n",
    "ax.add_patch(circle1)\n",
    "ax.add_patch(circle2)\n",
    "ax.add_patch(circle3)\n",
    "#ax.annotate('{:4d} K'.format(T), xy=(x, y*1.2-0.5), va='center',\n",
    "            #ha='center', color=(r1,g1,b1))\n",
    "\n",
    "# Set the limits and background colour; remove the ticks\n",
    "ax.set_xlim(0,6)\n",
    "ax.set_ylim(0,2)\n",
    "#ax.set_xticks([])\n",
    "#ax.set_yticks([])\n",
    "#ax.set_axis_bgcolor('k')\n",
    "# Make sure our circles are circular!\n",
    "ax.set_aspect(\"equal\")"
   ]
  },
  {
   "cell_type": "code",
   "execution_count": 14,
   "metadata": {},
   "outputs": [
    {
     "name": "stderr",
     "output_type": "stream",
     "text": [
      "/home/adiv/.local/lib/python2.7/site-packages/ipykernel_launcher.py:3: RuntimeWarning: overflow encountered in exp\n",
      "  This is separate from the ipykernel package so we can avoid doing imports until\n",
      "/home/adiv/.local/lib/python2.7/site-packages/ipykernel_launcher.py:9: MatplotlibDeprecationWarning: The set_axis_bgcolor function was deprecated in version 2.0. Use set_facecolor instead.\n",
      "  if __name__ == '__main__':\n"
     ]
    },
    {
     "data": {
      "image/png": "[encoded data removed]",
      "text/plain": [
       "<matplotlib.figure.Figure at 0x7fc0053d8490>"
      ]
     },
     "metadata": {},
     "output_type": "display_data"
    }
   ],
   "source": [
    "fig,ax = plt.subplots(figsize=(12,4))\n",
    "for t in range(500,15000,500):\n",
    "    w,s = blackbody(t)\n",
    "    r,g,b = colormatch.spec2rgb(w,s*w,normalization=1.0)\n",
    "    cmax = np.amax((r,g,b))\n",
    "    ax.add_patch(Circle(xy=((t)/1000.0,1.2),radius=0.2,fc=(r/cmax,g/cmax,b/cmax)))\n",
    "ax.set_xlim(0,16)\n",
    "ax.set_ylim(0,2)\n",
    "ax.set_axis_bgcolor('k')\n",
    "ax.set_aspect(\"equal\")"
   ]
  },
  {
   "cell_type": "code",
   "execution_count": 15,
   "metadata": {},
   "outputs": [],
   "source": [
    "import netCDF4 as nc"
   ]
  },
  {
   "cell_type": "code",
   "execution_count": 16,
   "metadata": {},
   "outputs": [],
   "source": [
    "planet = nc.Dataset(\"lmdz_c1.0_phasecurve.nc\",\"r\")\n",
    "planetnc =nc.Dataset(\"lmdz_c1.0nc_phasecurve.nc\",\"r\")\n",
    "gsol = nc.Dataset(\"gsol_phasecurve.nc\",\"r\")"
   ]
  },
  {
   "cell_type": "code",
   "execution_count": 17,
   "metadata": {},
   "outputs": [
    {
     "name": "stdout",
     "output_type": "stream",
     "text": [
      "phase (64,) (u'phi',)\n",
      "wvl (884,) (u'wavelength',)\n",
      "spectra (64, 884) (u'phi', u'wavelength')\n",
      "map (64, 47, 64, 884) (u'phi', u'latitude', u'longitude', u'wavelength')\n"
     ]
    }
   ],
   "source": [
    "for k in gsol.variables:\n",
    "    print k, gsol.variables[k].shape,gsol.variables[k].dimensions"
   ]
  },
  {
   "cell_type": "code",
   "execution_count": 18,
   "metadata": {},
   "outputs": [],
   "source": [
    "mm = gsol.variables['map'][32,:,:,:]\n",
    "intens = np.zeros((47,64,3))\n",
    "colors = np.zeros((47,64,3))\n",
    "\n",
    "wvl = gsol.variables['wvl'][:]*1000.0"
   ]
  },
  {
   "cell_type": "code",
   "execution_count": 19,
   "metadata": {},
   "outputs": [
    {
     "data": {
      "text/plain": [
       "550.0002"
      ]
     },
     "execution_count": 19,
     "metadata": {},
     "output_type": "execute_result"
    }
   ],
   "source": [
    "wvl[0]"
   ]
  },
  {
   "cell_type": "code",
   "execution_count": 20,
   "metadata": {},
   "outputs": [],
   "source": [
    "for j in range(0,47):\n",
    "    for k in range(0,64):\n",
    "        intens[j,k,:] = colormatch.makexyz(wvl,mm[j,k,:])\n",
    "norms = intens[:,:,2]/np.amax(intens[:,:,2])"
   ]
  },
  {
   "cell_type": "code",
   "execution_count": 21,
   "metadata": {},
   "outputs": [],
   "source": [
    "for j in range(0,47):\n",
    "    for k in range(0,64):\n",
    "        colors[j,k,:] = colormatch.xyz2rgb(intens[j,k,0],intens[j,k,1],intens[j,k,2]*norms[j,k])\n",
    "cmax=1.0*np.amax(colors)\n",
    "colors/=cmax"
   ]
  },
  {
   "cell_type": "code",
   "execution_count": 22,
   "metadata": {},
   "outputs": [
    {
     "data": {
      "text/plain": [
       "([], <a list of 0 Text yticklabel objects>)"
      ]
     },
     "execution_count": 22,
     "metadata": {},
     "output_type": "execute_result"
    },
    {
     "data": {
      "image/png": "[encoded data removed]",
      "text/plain": [
       "<matplotlib.figure.Figure at 0x7fc0057582d0>"
      ]
     },
     "metadata": {},
     "output_type": "display_data"
    }
   ],
   "source": [
    "plt.imshow(np.minimum(colors,1.0),interpolation='gaussian')\n",
    "plt.xticks([])\n",
    "plt.yticks([])"
   ]
  },
  {
   "cell_type": "code",
   "execution_count": null,
   "metadata": {},
   "outputs": [],
   "source": []
  }
 ],
 "metadata": {
  "kernelspec": {
   "display_name": "Python 2",
   "language": "python",
   "name": "python2"
  },
  "language_info": {
   "codemirror_mode": {
    "name": "ipython",
    "version": 2
   },
   "file_extension": ".py",
   "mimetype": "text/x-python",
   "name": "python",
   "nbconvert_exporter": "python",
   "pygments_lexer": "ipython2",
   "version": "2.7.12"
  }
 },
 "nbformat": 4,
 "nbformat_minor": 2
}
